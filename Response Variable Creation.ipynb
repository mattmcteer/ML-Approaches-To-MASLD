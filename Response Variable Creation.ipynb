{
  "cells": [
    {
      "cell_type": "code",
      "source": [
        "#Import libraries\n",
        "\n",
        "import numpy as np \n",
        "import pandas as pd\n",
        "import matplotlib.pyplot as plt\n",
        "plt.style.use('ggplot')\n",
        "import seaborn as sns\n",
        "import warnings\n",
        "import random\n",
        "warnings.filterwarnings('ignore')\n",
        "import sklearn\n",
        "from sklearn.ensemble import RandomForestClassifier"
      ],
      "outputs": [],
      "execution_count": 51,
      "metadata": {}
    },
    {
      "cell_type": "code",
      "source": [
        "df = pd.read_csv(# read data)"
      ],
      "outputs": [],
      "execution_count": 3,
      "metadata": {}
    },
    {
      "cell_type": "code",
      "source": [
        "#Response 11 - MASL vs. MASH (NAS <4 (0) vs. NAS>=4 (1))\n",
        "conditions = [\n",
        "    (df['NAS_SCORE_INTEGRATED'] == np.NaN),\n",
        "    (df['NAS_SCORE_INTEGRATED'] >= 4),\n",
        "    (df['NAS_SCORE_INTEGRATED'] < 4)]\n",
        "choices = [np.NaN,1,0]\n",
        "response_11 = np.select(conditions, choices, default = np.NaN)\n",
        "response_11 = pd.DataFrame(response_11)\n",
        "response_11.columns = ['response_11']\n",
        "response_11['response_11'].value_counts()"
      ],
      "outputs": [],
      "execution_count": null,
      "metadata": {}
    },
    {
      "cell_type": "code",
      "source": [
        "#Response 12 - At Risk MASH \n",
        "#response_12 = df['response_7']\n",
        "#Same as Response 7 "
      ],
      "outputs": [],
      "execution_count": null,
      "metadata": {}
    },
    {
      "cell_type": "code",
      "source": [
        "#Response 13 - High Activity (A < 2 (0) vs. A >=2 (1))\n",
        "conditions = [\n",
        "    (df['DISEASE_ACTIVITY_SCORE_INTEGRATED'] == np.NaN),\n",
        "    (df['DISEASE_ACTIVITY_SCORE_INTEGRATED'] >= 2),\n",
        "    (df['DISEASE_ACTIVITY_SCORE_INTEGRATED'] < 2)]\n",
        "choices = [np.NaN,1,0]\n",
        "response_13 = np.select(conditions, choices, default = np.NaN)\n",
        "response_13 = pd.DataFrame(response_13)\n",
        "response_13.columns = ['response_13']\n",
        "response_13['response_13'].value_counts()\n"
      ],
      "outputs": [],
      "execution_count": null,
      "metadata": {}
    },
    {
      "cell_type": "code",
      "source": [
        "#Response 14 - Clinically Significant Fibrosis (F < 2 (0) vs. F >= 2 (1))\n",
        "conditions = [\n",
        "    (df['FIBROSIS_STAGE_INTEGRATED'] == np.NaN),\n",
        "    (df['FIBROSIS_STAGE_INTEGRATED'] >= 2),\n",
        "    (df['FIBROSIS_STAGE_INTEGRATED'] < 2)]\n",
        "choices = [np.NaN,1,0]\n",
        "response_14 = np.select(conditions, choices, default = np.NaN)\n",
        "response_14 = pd.DataFrame(response_14)\n",
        "response_14.columns = ['response_14']\n",
        "response_14['response_14'].value_counts()\n",
        "\n",
        "#Note: Same as Response 6a"
      ],
      "outputs": [],
      "execution_count": null,
      "metadata": {}
    },
    {
      "cell_type": "code",
      "source": [
        "#Response 15 - Advanced Fibrosis (Histology Confirmed) (F < 3 (0) vs. F >= 3 (1))\n",
        "conditions = [\n",
        "    (df['FIBROSIS_STAGE_INTEGRATED'] == np.NaN),\n",
        "    (df['FIBROSIS_STAGE_INTEGRATED'] >= 3),\n",
        "    (df['FIBROSIS_STAGE_INTEGRATED'] < 3)]\n",
        "choices = [np.NaN,1,0]\n",
        "response_15 = np.select(conditions, choices, default = np.NaN)\n",
        "response_15 = pd.DataFrame(response_15)\n",
        "response_15.columns = ['response_15']\n",
        "response_15['response_15'].value_counts()\n"
      ],
      "outputs": [],
      "execution_count": null,
      "metadata": {}
    },
    {
      "cell_type": "code",
      "source": [
        "#Response 16 - Cirrhosis (Histology Confirmed) (F < 4 (0) vs. F >= 4 (1))\n",
        "conditions = [\n",
        "    (df['FIBROSIS_STAGE_INTEGRATED'] == np.NaN),\n",
        "    (df['FIBROSIS_STAGE_INTEGRATED'] >= 4),\n",
        "    (df['FIBROSIS_STAGE_INTEGRATED'] < 4)]\n",
        "choices = [np.NaN,1,0]\n",
        "response_16 = np.select(conditions, choices, default = np.NaN)\n",
        "response_16 = pd.DataFrame(response_16)\n",
        "response_16.columns = ['response_16']\n",
        "response_16['response_16'].value_counts()\n"
      ],
      "outputs": [],
      "execution_count": null,
      "metadata": {}
    },
    {
      "cell_type": "code",
      "source": [
        "#Response 17 - Advanced Fibrosis (Histological and Clinical) (F < 3 (0) vs. F >= 3 AND Cirrhotic (1))\n",
        "df['CPH_EV_CD_CIRRHOTIC'] = df['CPH_EV_CD_CIRRHOTIC'].fillna(2)\n",
        "df['FIBROSIS_STAGE_INTEGRATED'] = df['FIBROSIS_STAGE_INTEGRATED'].fillna(5)\n",
        "conditions = [\n",
        "    (df['CPH_EV_CD_CIRRHOTIC'] == 1) & (df['FIBROSIS_STAGE_INTEGRATED'] == 4),\n",
        "    (df['CPH_EV_CD_CIRRHOTIC'] == 1) & (df['FIBROSIS_STAGE_INTEGRATED'] == 3),\n",
        "    (df['CPH_EV_CD_CIRRHOTIC'] == 1) & (df['FIBROSIS_STAGE_INTEGRATED'] < 3),\n",
        "    (df['CPH_EV_CD_CIRRHOTIC'] == 1) & (df['FIBROSIS_STAGE_INTEGRATED'] == 5),\n",
        "    \n",
        "    (df['CPH_EV_CD_CIRRHOTIC'] == 0) & (df['FIBROSIS_STAGE_INTEGRATED'] == 4),\n",
        "    (df['CPH_EV_CD_CIRRHOTIC'] == 0) & (df['FIBROSIS_STAGE_INTEGRATED'] == 3),\n",
        "    (df['CPH_EV_CD_CIRRHOTIC'] == 0) & (df['FIBROSIS_STAGE_INTEGRATED'] < 3),\n",
        "    (df['CPH_EV_CD_CIRRHOTIC'] == 0) & (df['FIBROSIS_STAGE_INTEGRATED'] == 5),\n",
        "    \n",
        "    (df['CPH_EV_CD_CIRRHOTIC'] == 2) & (df['FIBROSIS_STAGE_INTEGRATED'] == 4),\n",
        "    (df['CPH_EV_CD_CIRRHOTIC'] == 2) & (df['FIBROSIS_STAGE_INTEGRATED'] == 3),\n",
        "    (df['CPH_EV_CD_CIRRHOTIC'] == 2) & (df['FIBROSIS_STAGE_INTEGRATED'] < 3),\n",
        "    (df['CPH_EV_CD_CIRRHOTIC'] == 2) & (df['FIBROSIS_STAGE_INTEGRATED'] == 5),\n",
        "]\n",
        "choices = [1,1,1,1,\n",
        "           1,1,0,0,\n",
        "           1,1,0,np.nan]\n",
        "response_17 = np.select(conditions, choices, default = np.NaN)\n",
        "response_17 = pd.DataFrame(response_17)\n",
        "response_17.columns = ['response_17']\n",
        "df['CPH_EV_CD_CIRRHOTIC'] = df['CPH_EV_CD_CIRRHOTIC'].replace(2, np.nan)\n",
        "print(df['CPH_EV_CD_CIRRHOTIC'].isna().sum())\n",
        "df['FIBROSIS_STAGE_INTEGRATED'] = df['FIBROSIS_STAGE_INTEGRATED'].replace(5, np.nan)\n",
        "print(df['FIBROSIS_STAGE_INTEGRATED'].isna().sum())"
      ],
      "outputs": [],
      "execution_count": null,
      "metadata": {}
    },
    {
      "cell_type": "code",
      "source": [
        "#Response 18 - Cirrhosis (Histological and Clinical) (F < 4 (0) vs. F >= 4 AND Cirrhotic (1))\n",
        "df['CPH_EV_CD_CIRRHOTIC'] = df['CPH_EV_CD_CIRRHOTIC'].fillna(2)\n",
        "df['FIBROSIS_STAGE_INTEGRATED'] = df['FIBROSIS_STAGE_INTEGRATED'].fillna(5)\n",
        "conditions = [\n",
        "    (df['CPH_EV_CD_CIRRHOTIC'] == 1) & (df['FIBROSIS_STAGE_INTEGRATED'] == 4),\n",
        "    (df['CPH_EV_CD_CIRRHOTIC'] == 1) & (df['FIBROSIS_STAGE_INTEGRATED'] < 4),\n",
        "    (df['CPH_EV_CD_CIRRHOTIC'] == 1) & (df['FIBROSIS_STAGE_INTEGRATED'] == 5),\n",
        "    (df['CPH_EV_CD_CIRRHOTIC'] == 0) & (df['FIBROSIS_STAGE_INTEGRATED'] == 4),\n",
        "    (df['CPH_EV_CD_CIRRHOTIC'] == 0) & (df['FIBROSIS_STAGE_INTEGRATED'] < 4),\n",
        "    (df['CPH_EV_CD_CIRRHOTIC'] == 0) & (df['FIBROSIS_STAGE_INTEGRATED'] == 5),\n",
        "    (df['CPH_EV_CD_CIRRHOTIC'] == 2) & (df['FIBROSIS_STAGE_INTEGRATED'] == 4),\n",
        "    (df['CPH_EV_CD_CIRRHOTIC'] == 2) & (df['FIBROSIS_STAGE_INTEGRATED'] < 4),\n",
        "    (df['CPH_EV_CD_CIRRHOTIC'] == 2) & (df['FIBROSIS_STAGE_INTEGRATED'] == 5),\n",
        "]\n",
        "choices = [1,1,1,1,0,0,1,0,np.nan]\n",
        "response_18 = np.select(conditions, choices, default = np.NaN)\n",
        "response_18 = pd.DataFrame(response_18)\n",
        "response_18.columns = ['response_18']\n",
        "df['CPH_EV_CD_CIRRHOTIC'] = df['CPH_EV_CD_CIRRHOTIC'].replace(2, np.nan)\n",
        "print(df['CPH_EV_CD_CIRRHOTIC'].isna().sum())\n",
        "df['FIBROSIS_STAGE_INTEGRATED'] = df['FIBROSIS_STAGE_INTEGRATED'].replace(5, np.nan)\n",
        "print(df['FIBROSIS_STAGE_INTEGRATED'].isna().sum())\n"
      ],
      "outputs": [],
      "execution_count": null,
      "metadata": {}
    },
    {
      "cell_type": "code",
      "source": [
        "#Response 20 - At-Risk MASLD\n",
        "conditions = [\n",
        "    (df['FIBROSIS_STAGE_INTEGRATED'] == 0) & (df['NAS_SCORE_INTEGRATED'] >= 4),  \n",
        "    (df['FIBROSIS_STAGE_INTEGRATED'] == 1) & (df['NAS_SCORE_INTEGRATED'] >= 4),\n",
        "    (df['FIBROSIS_STAGE_INTEGRATED'] == 2) & (df['NAS_SCORE_INTEGRATED'] >= 4), \n",
        "    (df['FIBROSIS_STAGE_INTEGRATED'] == 3) & (df['NAS_SCORE_INTEGRATED'] >= 4), \n",
        "    (df['FIBROSIS_STAGE_INTEGRATED'] == 4) & (df['NAS_SCORE_INTEGRATED'] >= 4),\n",
        "    \n",
        "    (df['FIBROSIS_STAGE_INTEGRATED'] == 0) & (df['NAS_SCORE_INTEGRATED'] < 4),  \n",
        "    (df['FIBROSIS_STAGE_INTEGRATED'] == 1) & (df['NAS_SCORE_INTEGRATED'] < 4),\n",
        "    (df['FIBROSIS_STAGE_INTEGRATED'] == 2) & (df['NAS_SCORE_INTEGRATED'] < 4), \n",
        "    (df['FIBROSIS_STAGE_INTEGRATED'] == 3) & (df['NAS_SCORE_INTEGRATED'] < 4), \n",
        "    (df['FIBROSIS_STAGE_INTEGRATED'] == 4) & (df['NAS_SCORE_INTEGRATED'] < 4),\n",
        "    \n",
        "\n",
        "]\n",
        "\n",
        "choices = [0,0,1,1,np.nan,0,0,0,0,np.nan]\n",
        "response_20 = np.select(conditions, choices, default = np.NaN)\n",
        "response_20 = pd.DataFrame(response_20)\n",
        "response_20.columns = ['response_20']\n",
        "response_20['response_20'].value_counts()"
      ],
      "outputs": [],
      "execution_count": null,
      "metadata": {}
    },
    {
      "cell_type": "code",
      "source": [
        "#Concatenate responses to df and save where appropriate"
      ],
      "outputs": [],
      "execution_count": null,
      "metadata": {}
    }
  ],
  "metadata": {
    "kernelspec": {
      "display_name": "Python 3",
      "language": "python",
      "name": "python3"
    },
    "language_info": {
      "codemirror_mode": {
        "name": "ipython",
        "version": 3
      },
      "file_extension": ".py",
      "mimetype": "text/x-python",
      "name": "python",
      "nbconvert_exporter": "python",
      "pygments_lexer": "ipython3",
      "version": "3.7.3"
    },
    "nteract": {
      "version": "0.28.0"
    }
  },
  "nbformat": 4,
  "nbformat_minor": 2
}